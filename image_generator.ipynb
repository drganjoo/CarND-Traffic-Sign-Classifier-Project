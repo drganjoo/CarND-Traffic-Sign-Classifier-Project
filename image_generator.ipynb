{
 "cells": [
  {
   "cell_type": "code",
   "execution_count": 6,
   "metadata": {
    "collapsed": false,
    "deletable": true,
    "editable": true
   },
   "outputs": [
    {
     "name": "stdout",
     "output_type": "stream",
     "text": [
      "Total dataset: 51839\n",
      "Number of training examples = 34799 (67.13% of total)\n",
      "Number of validation examples = 4410 (8.51% of total)\n",
      "Number of testing examples = 12630 (24.36% of total)\n",
      "Image data shape = (32, 32, 3)\n",
      "Number of classes = 43\n"
     ]
    }
   ],
   "source": [
    "# Load pickled data\n",
    "import pandas as pd\n",
    "import pickle\n",
    "\n",
    "training_file = './train.p'\n",
    "validation_file = './valid.p'\n",
    "testing_file = './test.p'\n",
    "#generated_file = './generated.p'\n",
    "\n",
    "with open(training_file, mode='rb') as f:\n",
    "    train = pickle.load(f)\n",
    "with open(validation_file, mode='rb') as f:\n",
    "    valid = pickle.load(f)\n",
    "with open(testing_file, mode='rb') as f:\n",
    "    test = pickle.load(f)\n",
    "    \n",
    "X_train, y_train = train['features'], train['labels']\n",
    "X_valid, y_valid = valid['features'], valid['labels']\n",
    "X_test, y_test = test['features'], test['labels']\n",
    "\n",
    "assert(len(X_train) == len(y_train))\n",
    "assert(len(X_valid) == len(y_valid))\n",
    "assert(len(X_test) == len(y_test))\n",
    "\n",
    "sign_names = pd.read_csv('./signnames.csv')\n",
    "\n",
    "n_train = len(X_train)\n",
    "n_test = len(X_test)\n",
    "n_valid = len(X_valid)\n",
    "\n",
    "image_shape = X_train.shape[1:]\n",
    "n_classes = sign_names.shape[0]\n",
    "\n",
    "total = len(X_train) + len(X_valid) + len(X_test)\n",
    "\n",
    "print('Total dataset:', total)\n",
    "print(\"Number of training examples = {} ({:.2f}% of total)\".format(n_train, 100 * len(X_train) / total))\n",
    "print(\"Number of validation examples = {} ({:.2f}% of total)\".format(n_valid, 100 * len(X_valid) / total))\n",
    "print(\"Number of testing examples = {} ({:.2f}% of total)\".format(n_test, 100 * len(X_test) / total))\n",
    "print(\"Image data shape =\", image_shape)\n",
    "print(\"Number of classes =\", n_classes)\n"
   ]
  },
  {
   "cell_type": "code",
   "execution_count": 31,
   "metadata": {
    "collapsed": false,
    "deletable": true,
    "editable": true
   },
   "outputs": [
    {
     "name": "stdout",
     "output_type": "stream",
     "text": [
      "Generated data loaded (49981, 32, 32, 3) (49981,) (34799,)\n",
      "(84780, 32, 32, 3) (84780,)\n",
      "Unque: (array([ 0,  1,  2,  3,  4,  5,  6,  7,  8,  9, 10, 11, 12, 13, 14, 15, 16,\n",
      "       17, 18, 19, 20, 21, 22, 23, 24, 25, 26, 27, 28, 29, 30, 31, 32, 33,\n",
      "       34, 35, 36, 37, 38, 39, 40, 41, 42], dtype=uint8), array([ 180, 1980, 2010, 1260, 1770, 1650,  360, 1290, 1260, 1320, 1800,\n",
      "       1170, 1890, 1920,  690,  540,  360,  990, 1080,  180,  300,  270,\n",
      "        330,  450,  240, 1350,  540,  210,  480,  240,  390,  690,  210,\n",
      "        599,  360, 1080,  330,  180, 1860,  270,  300,  210,  210]))\n",
      "(42,) (43,)\n"
     ]
    },
    {
     "ename": "ValueError",
     "evalue": "incompatible sizes: argument 'height' must be length 43 or scalar",
     "output_type": "error",
     "traceback": [
      "\u001b[0;31m---------------------------------------------------------------------------\u001b[0m",
      "\u001b[0;31mValueError\u001b[0m                                Traceback (most recent call last)",
      "\u001b[0;32m<ipython-input-31-ca611608ef45>\u001b[0m in \u001b[0;36m<module>\u001b[0;34m()\u001b[0m\n\u001b[1;32m     22\u001b[0m \u001b[0;34m\u001b[0m\u001b[0m\n\u001b[1;32m     23\u001b[0m \u001b[0mplt\u001b[0m\u001b[0;34m.\u001b[0m\u001b[0mfigure\u001b[0m\u001b[0;34m(\u001b[0m\u001b[0;34m)\u001b[0m\u001b[0;34m\u001b[0m\u001b[0m\n\u001b[0;32m---> 24\u001b[0;31m \u001b[0mplt\u001b[0m\u001b[0;34m.\u001b[0m\u001b[0mbar\u001b[0m\u001b[0;34m(\u001b[0m\u001b[0mb\u001b[0m\u001b[0;34m,\u001b[0m \u001b[0mc\u001b[0m\u001b[0;34m)\u001b[0m\u001b[0;34m\u001b[0m\u001b[0m\n\u001b[0m\u001b[1;32m     25\u001b[0m \u001b[0mplt\u001b[0m\u001b[0;34m.\u001b[0m\u001b[0mshow\u001b[0m\u001b[0;34m(\u001b[0m\u001b[0;34m)\u001b[0m\u001b[0;34m\u001b[0m\u001b[0m\n",
      "\u001b[0;32m/home/fahad/miniconda3/envs/carnd-term1/lib/python3.5/site-packages/matplotlib/pyplot.py\u001b[0m in \u001b[0;36mbar\u001b[0;34m(left, height, width, bottom, hold, data, **kwargs)\u001b[0m\n\u001b[1;32m   2703\u001b[0m     \u001b[0;32mtry\u001b[0m\u001b[0;34m:\u001b[0m\u001b[0;34m\u001b[0m\u001b[0m\n\u001b[1;32m   2704\u001b[0m         ret = ax.bar(left, height, width=width, bottom=bottom, data=data,\n\u001b[0;32m-> 2705\u001b[0;31m                      **kwargs)\n\u001b[0m\u001b[1;32m   2706\u001b[0m     \u001b[0;32mfinally\u001b[0m\u001b[0;34m:\u001b[0m\u001b[0;34m\u001b[0m\u001b[0m\n\u001b[1;32m   2707\u001b[0m         \u001b[0max\u001b[0m\u001b[0;34m.\u001b[0m\u001b[0m_hold\u001b[0m \u001b[0;34m=\u001b[0m \u001b[0mwashold\u001b[0m\u001b[0;34m\u001b[0m\u001b[0m\n",
      "\u001b[0;32m/home/fahad/miniconda3/envs/carnd-term1/lib/python3.5/site-packages/matplotlib/__init__.py\u001b[0m in \u001b[0;36minner\u001b[0;34m(ax, *args, **kwargs)\u001b[0m\n\u001b[1;32m   1890\u001b[0m                     warnings.warn(msg % (label_namer, func.__name__),\n\u001b[1;32m   1891\u001b[0m                                   RuntimeWarning, stacklevel=2)\n\u001b[0;32m-> 1892\u001b[0;31m             \u001b[0;32mreturn\u001b[0m \u001b[0mfunc\u001b[0m\u001b[0;34m(\u001b[0m\u001b[0max\u001b[0m\u001b[0;34m,\u001b[0m \u001b[0;34m*\u001b[0m\u001b[0margs\u001b[0m\u001b[0;34m,\u001b[0m \u001b[0;34m**\u001b[0m\u001b[0mkwargs\u001b[0m\u001b[0;34m)\u001b[0m\u001b[0;34m\u001b[0m\u001b[0m\n\u001b[0m\u001b[1;32m   1893\u001b[0m         \u001b[0mpre_doc\u001b[0m \u001b[0;34m=\u001b[0m \u001b[0minner\u001b[0m\u001b[0;34m.\u001b[0m\u001b[0m__doc__\u001b[0m\u001b[0;34m\u001b[0m\u001b[0m\n\u001b[1;32m   1894\u001b[0m         \u001b[0;32mif\u001b[0m \u001b[0mpre_doc\u001b[0m \u001b[0;32mis\u001b[0m \u001b[0;32mNone\u001b[0m\u001b[0;34m:\u001b[0m\u001b[0;34m\u001b[0m\u001b[0m\n",
      "\u001b[0;32m/home/fahad/miniconda3/envs/carnd-term1/lib/python3.5/site-packages/matplotlib/axes/_axes.py\u001b[0m in \u001b[0;36mbar\u001b[0;34m(self, left, height, width, bottom, **kwargs)\u001b[0m\n\u001b[1;32m   2077\u001b[0m         \u001b[0;32mif\u001b[0m \u001b[0mlen\u001b[0m\u001b[0;34m(\u001b[0m\u001b[0mheight\u001b[0m\u001b[0;34m)\u001b[0m \u001b[0;34m!=\u001b[0m \u001b[0mnbars\u001b[0m\u001b[0;34m:\u001b[0m\u001b[0;34m\u001b[0m\u001b[0m\n\u001b[1;32m   2078\u001b[0m             raise ValueError(\"incompatible sizes: argument 'height' \"\n\u001b[0;32m-> 2079\u001b[0;31m                               \"must be length %d or scalar\" % nbars)\n\u001b[0m\u001b[1;32m   2080\u001b[0m         \u001b[0;32mif\u001b[0m \u001b[0mlen\u001b[0m\u001b[0;34m(\u001b[0m\u001b[0mwidth\u001b[0m\u001b[0;34m)\u001b[0m \u001b[0;34m!=\u001b[0m \u001b[0mnbars\u001b[0m\u001b[0;34m:\u001b[0m\u001b[0;34m\u001b[0m\u001b[0m\n\u001b[1;32m   2081\u001b[0m             raise ValueError(\"incompatible sizes: argument 'width' \"\n",
      "\u001b[0;31mValueError\u001b[0m: incompatible sizes: argument 'height' must be length 43 or scalar"
     ]
    }
   ],
   "source": [
    "import numpy as np\n",
    "import matplotlib.pyplot as plt\n",
    "\n",
    "generated_file = './generated.p'\n",
    "with open(generated_file, mode='rb') as f:\n",
    "    generated = pickle.load(f)\n",
    "    \n",
    "X_generated, y_generated = generated['features'], generated['labels']\n",
    "\n",
    "print('Generated data loaded', X_generated.shape, y_generated.squeeze().shape, y_train.shape)\n",
    "\n",
    "X_train_comb = np.vstack((X_train, X_generated))\n",
    "y_train_comb = np.append(y_train, y_generated.squeeze())\n",
    "\n",
    "print(X_train_comb.shape, y_train_comb.shape)\n",
    "\n",
    "c, b = np.histogram(y_train, range(n_classes))\n",
    "\n",
    "print('Unque:', np.unique(y_train, return_counts=True))\n",
    "print(c.shape, b.shape)\n",
    "\n",
    "\n",
    "plt.figure()\n",
    "plt.bar(b, c)\n",
    "plt.show()"
   ]
  },
  {
   "cell_type": "code",
   "execution_count": null,
   "metadata": {
    "collapsed": false,
    "deletable": true,
    "editable": true
   },
   "outputs": [],
   "source": [
    "import matplotlib.pyplot as plt\n",
    "\n",
    "image_index = np.random.randint(len(X_generated))\n",
    "\n",
    "image = X_generated[image_index]\n",
    "sign_index = y_generated[image_index]\n",
    "\n",
    "print(sign_names.SignName[sign_index])\n",
    "print(image.shape)\n",
    "plt.imshow(image)\n",
    "plt.show()\n"
   ]
  },
  {
   "cell_type": "code",
   "execution_count": 7,
   "metadata": {
    "collapsed": true,
    "deletable": true,
    "editable": true
   },
   "outputs": [],
   "source": [
    "def increase_brightness(image):\n",
    "#     image_y = cv2.cvtColor(image, cv2.COLOR_RGB2YCrCb)\n",
    "#     image_y[:,:,0] += 25;\n",
    "#     return cv2.cvtColor(image_y, cv2.COLOR_YCrCb2RGB)\n",
    "    #print('increase brightness')\n",
    "    maxIntensity = 255.0\n",
    "\n",
    "    # Parameters for manipulating image data\n",
    "    phi = 1\n",
    "    theta = 1\n",
    "\n",
    "    # Increase intensity such that\n",
    "    # dark pixels become much brighter, \n",
    "    # bright pixels become slightly bright\n",
    "    bright = (maxIntensity/phi)*(image/(maxIntensity/theta))**0.5\n",
    "    bright = np.array(bright, dtype = np.uint8)\n",
    "    return bright\n",
    "\n",
    "def decrease_brightness(image):\n",
    "    maxIntensity = 255.0\n",
    "\n",
    "    # Parameters for manipulating image data\n",
    "    phi = 1\n",
    "    theta = 1\n",
    "    \n",
    "    # Decrease intensity such that\n",
    "    # dark pixels become much darker, \n",
    "    # bright pixels become slightly dark \n",
    "    dark = (maxIntensity/phi)*(image/(maxIntensity/theta))**2\n",
    "    dark = np.array(dark, dtype = np.uint8)\n",
    "\n",
    "    return dark\n",
    "\n",
    "def rotate_image(img, degreesCCW = 30, scaleFactor = 1):\n",
    "    # mostly copied from http://stackoverflow.com/questions/11764575/\n",
    "    #print('rotating image', scaleFactor, degreesCCW)\n",
    "    (oldY,oldX) = img.shape[0], img.shape[1] #note: numpy uses (y,x) convention but most OpenCV functions use (x,y)\n",
    "    M = cv2.getRotationMatrix2D(center=(oldX/2,oldY/2), angle=degreesCCW, scale=scaleFactor) #rotate about center of image.\n",
    "\n",
    "    #choose a new image size.\n",
    "    newX,newY = oldX*scaleFactor,oldY*scaleFactor\n",
    "    #include this if you want to prevent corners being cut off\n",
    "    r = np.deg2rad(degreesCCW)\n",
    "    newX,newY = (abs(np.sin(r)*newY) + abs(np.cos(r)*newX),abs(np.sin(r)*newX) + abs(np.cos(r)*newY))\n",
    "\n",
    "    #the warpAffine function call, below, basically works like this:\n",
    "    # 1. apply the M transformation on each pixel of the original image\n",
    "    # 2. save everything that falls within the upper-left \"dsize\" portion of the resulting image.\n",
    "\n",
    "    #So I will find the translation that moves the result to the center of that region.\n",
    "    (tx,ty) = ((newX-oldX)/2,(newY-oldY)/2)\n",
    "    M[0,2] += tx #third column of matrix holds translation, which takes effect after rotation.\n",
    "    M[1,2] += ty\n",
    "\n",
    "    rotatedImg = cv2.warpAffine(img, M, dsize=(int(newX),int(newY)))\n",
    "    \n",
    "    diff = (np.array([rotatedImg.shape[0] - image.shape[0], rotatedImg.shape[1] - image.shape[1]]) / 2).astype(np.uint8)\n",
    "    #print('Rotated shape: {} Diff: {}'.format(rotatedImg.shape, diff))\n",
    "    rot_scaled_image = rotatedImg[diff[0]: diff[0] + 32, diff[1]: diff[1] + 32]\n",
    "\n",
    "    return rot_scaled_image\n",
    "\n",
    "def shift(images, dx):\n",
    "    return np.roll(images, dx, axis=1)\n",
    "\n",
    "def add_noise(image, noise_factor=30):\n",
    "    noise = np.random.randint(0,noise_factor,image.shape).astype(np.uint8)\n",
    "    image_noise = cv2.add(image, noise)\n",
    "    return image_noise\n",
    "\n",
    "def pca(image):\n",
    "    # mean center image\n",
    "    X = np.mean(image, 2)\n",
    "    X -= np.mean(X, axis=0)\n",
    "    cov = np.dot(X, X.T) / X.shape[0]\n",
    "    U,S,V = np.linalg.svd(cov)\n",
    "    Xrot = np.dot(X, U)\n",
    "    Xwhite = Xrot / np.sqrt(S + 1e-5)\n",
    "    print(Xwhite.shape)\n",
    "    return Xwhite.astype(np.uint8)\n",
    "\n",
    "def zca_whitening(inputs):\n",
    "    sigma = np.dot(inputs, inputs.T)/inputs.shape[1] #Correlation matrix\n",
    "    U,S,V = np.linalg.svd(sigma) #Singular Value Decomposition\n",
    "    epsilon = 0.1                #Whitening constant, it prevents division by zero\n",
    "    ZCAMatrix = np.dot(np.dot(U, np.diag(1.0/np.sqrt(np.diag(S) + epsilon))), U.T) #ZCA Whitening matrix\n",
    "    return np.dot(ZCAMatrix, inputs)   #Data whitening\n",
    "\n",
    "def scale_image(image, size):\n",
    "    image_s = cv2.resize(image, (size, size), interpolation = cv2.INTER_CUBIC)\n",
    "    \n",
    "    if size < image.shape[0]:\n",
    "        # we need to pad\n",
    "        diff = (np.array([image.shape[0] - size, image.shape[1] - size]) / 2).astype(np.uint8)\n",
    "        bg = np.pad(image_s, (diff, diff, (0,0)), 'constant')\n",
    "        assert(bg.shape[0] == 32 and bg.shape[1] == 32)\n",
    "    else:\n",
    "        # we need to just get 32 x 32\n",
    "        #print('bigger image we need a smaller one')\n",
    "        start = int((size - image.shape[0]) / 2)\n",
    "        bg = image_s[start: start + 32, start: start + 32]\n",
    "    return bg\n",
    "\n",
    "# image = X_train[0]\n",
    "# image_s = scale_image(image, 40)\n",
    "# print(image_s.shape)\n",
    "# plt.figure()\n",
    "# plt.subplot(1,2,1)\n",
    "# plt.imshow(image)\n",
    "# plt.subplot(1,2,2)\n",
    "# plt.imshow(image_s)\n",
    "# plt.show()"
   ]
  },
  {
   "cell_type": "code",
   "execution_count": 35,
   "metadata": {
    "collapsed": false,
    "deletable": true,
    "editable": true
   },
   "outputs": [
    {
     "name": "stdout",
     "output_type": "stream",
     "text": [
      "classes 43\n",
      "range(0, 43)\n",
      "Generating 1440 for class 0\n",
      "Generating 30 for class 1\n",
      "Generating 0 for class 2\n",
      "Generating 750 for class 3\n",
      "Generating 240 for class 4\n",
      "Generating 360 for class 5\n",
      "Generating 1650 for class 6\n",
      "Generating 720 for class 7\n",
      "Generating 750 for class 8\n",
      "Generating 690 for class 9\n",
      "Generating 210 for class 10\n",
      "Generating 840 for class 11\n",
      "Generating 120 for class 12\n",
      "Generating 90 for class 13\n",
      "Generating 1320 for class 14\n",
      "Generating 1470 for class 15\n",
      "Generating 1650 for class 16\n",
      "Generating 1020 for class 17\n",
      "Generating 930 for class 18\n",
      "Generating 1440 for class 19\n",
      "Generating 1710 for class 20\n",
      "Generating 1740 for class 21\n",
      "Generating 1680 for class 22\n",
      "Generating 1560 for class 23\n",
      "Generating 1770 for class 24\n",
      "Generating 660 for class 25\n",
      "Generating 1470 for class 26\n",
      "Generating 1680 for class 27\n",
      "Generating 1530 for class 28\n",
      "Generating 1770 for class 29\n",
      "Generating 1620 for class 30\n",
      "Generating 1320 for class 31\n",
      "Generating 1680 for class 32\n",
      "Generating 1411 for class 33\n",
      "Generating 1650 for class 34\n",
      "Generating 930 for class 35\n",
      "Generating 1680 for class 36\n",
      "Generating 1440 for class 37\n",
      "Generating 150 for class 38\n",
      "Generating 1740 for class 39\n",
      "Generating 1710 for class 40\n",
      "Generating 1680 for class 41\n",
      "Generating 1680 for class 42\n",
      "Saved generated data in generated.p\n",
      "Images Shape: (49981, 32, 32, 3)\n",
      "Labels Shape: (49981, 1)\n"
     ]
    }
   ],
   "source": [
    "import numpy as np\n",
    "import cv2\n",
    "import os\n",
    "\n",
    "print('classes', n_classes)\n",
    "print(range(n_classes))\n",
    "\n",
    "bins, classes_hist = np.unique(y_train, return_counts=True)\n",
    "classes_hist = np.array(list(zip(bins,classes_hist)))\n",
    "highest = np.max(classes_hist[:,1])\n",
    "\n",
    "# we would like to have a more uniform distribution of data\n",
    "ops = [lambda image: increase_brightness(scale_image(image, 36)), \n",
    "       lambda image: decrease_brightness(scale_image(image, 36)),\n",
    "       lambda image: rotate_image(image, angle), \n",
    "       lambda image: rotate_image(image, -angle),\n",
    "       lambda image: scale_image(image, 28),\n",
    "       lambda image: add_noise(image),\n",
    "       lambda image: shift(image, 2),\n",
    "       lambda image: shift(image, -2)]\n",
    "\n",
    "X_generated = np.empty([0,32, 32, 3]).astype(np.uint8)\n",
    "y_generated = np.empty((0,1)).astype(np.uint8)\n",
    "\n",
    "for category, count in classes_hist:\n",
    "    folder = './gen_images/{}'.format(category)\n",
    "    if not os.path.exists(folder):\n",
    "        os.makedirs(folder)\n",
    "    \n",
    "    #print('Creating X_generated for the category')\n",
    "    short = highest - count\n",
    "    # we have 5 ways to generate more images from a given one\n",
    "    # so max we can generate would be \n",
    "    possible = count * len(ops)\n",
    "    required = min(possible, short)\n",
    "    \n",
    "    print(\"Generating {} for class {}\".format(required, category))\n",
    "    \n",
    "    if required > 0:\n",
    "        order = np.random.choice(count, required)\n",
    "        image_index = np.where(y_train == category)\n",
    "        image_index = image_index[0]\n",
    "        \n",
    "        #print(np.max(order), len(image_index))\n",
    "        op_index = 0\n",
    "        \n",
    "        for i in order:\n",
    "            index = image_index[i]\n",
    "            #print('Using image', index)\n",
    "            image = np.copy(X_train[index])\n",
    "\n",
    "            #print(index, op_index)\n",
    "            image_generated = ops[op_index](image)\n",
    "            \n",
    "            file_name = '{}/{}.jpg'.format(folder, index)\n",
    "            cv2.imwrite(file_name, image_generated)\n",
    "            #file_org = '{}/{}-org.jpg'.format(folder, index)\n",
    "            #cv2.imwrite(file_org, X_train[index])\n",
    "\n",
    "            X_generated = np.vstack((X_generated, [image_generated]))\n",
    "            y_generated = np.vstack((y_generated, [category]))\n",
    "            \n",
    "            angle = 10 + np.random.randint(10, size=1)\n",
    "            \n",
    "            op_index += 1\n",
    "            if op_index >= len(ops):\n",
    "                op_index = 0\n",
    "    \n",
    "with open('./generated.p'.format(category), 'wb') as f:\n",
    "    pickle.dump({'features':X_generated, 'labels': y_generated}, f)\n",
    "    print('Saved generated data in generated.p')\n",
    "    print('Images Shape:', X_generated.shape)\n",
    "    print('Labels Shape:', y_generated.shape)"
   ]
  },
  {
   "cell_type": "code",
   "execution_count": 49,
   "metadata": {
    "collapsed": false,
    "deletable": true,
    "editable": true
   },
   "outputs": [
    {
     "name": "stdout",
     "output_type": "stream",
     "text": [
      "[ 0  1  2  3  4  5  6  7  8  9 10 11 12 13 14 15 16 17 18 19 20 21 22 23 24\n",
      " 25 26 27 28 29 30 31 32 33 34 35 36 37 38 39 40 41 42]\n",
      "[ 0  1  3  4  5  6  7  8  9 10 11 12 13 14 15 16 17 18 19 20 21 22 23 24 25\n",
      " 26 27 28 29 30 31 32 33 34 35 36 37 38 39 40 41 42]\n"
     ]
    }
   ],
   "source": [
    "count, bins = np.histogram(y_generated, np.arange(n_classes))\n",
    "print(bins)\n",
    "print(np.unique(y_generated))\n",
    "# print(list(zip(bins, count)))\n",
    "# print(count.shape, bins.shape)\n",
    "\n",
    "\n",
    "# plt.figure()\n",
    "# plt.bar(bins, count)\n",
    "# plt.show()"
   ]
  },
  {
   "cell_type": "code",
   "execution_count": 8,
   "metadata": {
    "collapsed": false,
    "deletable": true,
    "editable": true
   },
   "outputs": [
    {
     "name": "stdout",
     "output_type": "stream",
     "text": [
      "2010\n"
     ]
    }
   ],
   "source": [
    "import numpy as np\n",
    "\n",
    "classes_hist, bins = np.histogram(y_train, bins=range(n_classes + 1))\n",
    "classes_hist = np.array(list(zip(bins,classes_hist)))\n",
    "highest = np.max(classes_hist[:,1])\n",
    "print(highest)"
   ]
  },
  {
   "cell_type": "code",
   "execution_count": null,
   "metadata": {
    "collapsed": false,
    "deletable": true,
    "editable": true
   },
   "outputs": [],
   "source": [
    "X_generated = np.empty([0,32, 32, 3]).astype(np.uint8)\n",
    "y_generated = np.empty(0).astype(np.uint8)\n",
    "\n",
    "\n",
    "print(X_generated.shape, y_generated.shape)"
   ]
  },
  {
   "cell_type": "code",
   "execution_count": 36,
   "metadata": {
    "collapsed": false,
    "deletable": true,
    "editable": true
   },
   "outputs": [
    {
     "name": "stdout",
     "output_type": "stream",
     "text": [
      "206\n"
     ]
    },
    {
     "data": {
      "text/plain": [
       "<matplotlib.image.AxesImage at 0x7ff3eb0d47b8>"
      ]
     },
     "execution_count": 36,
     "metadata": {},
     "output_type": "execute_result"
    },
    {
     "data": {
      "image/png": "[encoded data removed]",
      "text/plain": [
       "<matplotlib.figure.Figure at 0x7ff413fe20b8>"
      ]
     },
     "metadata": {},
     "output_type": "display_data"
    },
    {
     "data": {
      "image/png": "[encoded data removed]",
      "text/plain": [
       "<matplotlib.figure.Figure at 0x7ff3eb1911d0>"
      ]
     },
     "metadata": {},
     "output_type": "display_data"
    }
   ],
   "source": [
    "import matplotlib.pyplot as plt\n",
    "\n",
    "%matplotlib inline\n",
    "\n",
    "category = 42\n",
    "index = 9956\n",
    "\n",
    "# find out where would this image exists in this category so that \n",
    "# we can read it from the X_generated array\n",
    "\n",
    "image_index = np.where(y_train == category)[0]\n",
    "org_index = np.where(image_index == index)[0][0]\n",
    "print(org_index)\n",
    "    \n",
    "image = X_train[index]\n",
    "image_op = ops[2](image)\n",
    "image_g = X_generated[org_index]\n",
    "\n",
    "plt.figure()\n",
    "plt.subplot(1,2,1)\n",
    "plt.imshow(image)\n",
    "plt.subplot(1,2,2)\n",
    "plt.imshow(image_g)\n",
    "\n",
    "plt.figure()\n",
    "plt.imshow(image_op)\n"
   ]
  }
 ],
 "metadata": {
  "kernelspec": {
   "display_name": "Python 3",
   "language": "python",
   "name": "python3"
  },
  "language_info": {
   "codemirror_mode": {
    "name": "ipython",
    "version": 3
   },
   "file_extension": ".py",
   "mimetype": "text/x-python",
   "name": "python",
   "nbconvert_exporter": "python",
   "pygments_lexer": "ipython3",
   "version": "3.5.2"
  },
  "widgets": {
   "state": {},
   "version": "1.1.2"
  }
 },
 "nbformat": 4,
 "nbformat_minor": 2
}
